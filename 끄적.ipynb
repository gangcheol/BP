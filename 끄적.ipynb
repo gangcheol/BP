{
 "cells": [
  {
   "cell_type": "code",
   "execution_count": 195,
   "id": "6f2532e2-c4c0-4ee2-b8bc-4e1552fe3553",
   "metadata": {
    "tags": []
   },
   "outputs": [],
   "source": [
    "import pandas as pd\n",
    "from datetime import datetime, timedelta\n",
    "import random\n",
    "import numpy as np"
   ]
  },
  {
   "cell_type": "code",
   "execution_count": 196,
   "id": "3622cdb9-d116-42ca-9907-7da4c509cddf",
   "metadata": {
    "tags": []
   },
   "outputs": [],
   "source": [
    "columns = [\"발생시간\" ,\"이상행동 유형\", \"탐지 확률\", \"사건 관련 인원 수\", \"상황 발생 위치\", \"해당 구역 배치 요원 수\"]"
   ]
  },
  {
   "cell_type": "markdown",
   "id": "b473473e-12c0-4752-ba27-7e276e203483",
   "metadata": {},
   "source": [
    "# 데이터 만들기"
   ]
  },
  {
   "cell_type": "markdown",
   "id": "1230cc2d-e49a-4655-8937-7e3e058cfb34",
   "metadata": {},
   "source": [
    "`-` 발생시간"
   ]
  },
  {
   "cell_type": "code",
   "execution_count": 197,
   "id": "b9611150-d82b-4ee3-862d-952b8914bad3",
   "metadata": {
    "tags": []
   },
   "outputs": [],
   "source": [
    "date = \"2024-01-11\"\n",
    "\n",
    "\n",
    "hours = [\"0\"+ str(i) if i <10 else str (i) for i in np.random.randint(0,23,40)]\n",
    "minute = [\"0\"+ str(i) if i <10 else str (i) for i in np.random.randint(0,59,40)]\n",
    "second = [\"0\"+ str(i) if i <10 else str (i) for i in np.random.randint(0,59,40)]\n",
    "\n",
    "\n",
    "event_time = [date + \" \" + i + \":\" + j + \":\" + k for i,j,k in zip(hours, minute, second)]"
   ]
  },
  {
   "cell_type": "markdown",
   "id": "471132b8-26b4-451d-9cae-b6ea2f35c805",
   "metadata": {},
   "source": [
    "`-` 이상행동 유형"
   ]
  },
  {
   "cell_type": "code",
   "execution_count": 198,
   "id": "e2db729e-8cc3-4148-bbdb-05396fdfcb20",
   "metadata": {
    "tags": []
   },
   "outputs": [],
   "source": [
    "labels = [\"2인감지\", \"돌진\", \"방치\", \"실실신\",\"역방향\", \"파손\", \"폭행\"]\n",
    "\n",
    "event = random.choices(labels, k = 40)"
   ]
  },
  {
   "cell_type": "markdown",
   "id": "8be17667-d791-4bfc-809c-588dfe4645ed",
   "metadata": {},
   "source": [
    "`-` 탐지확률"
   ]
  },
  {
   "cell_type": "code",
   "execution_count": 199,
   "id": "4a4fa25e-73ec-4495-992b-ce819956d710",
   "metadata": {
    "tags": []
   },
   "outputs": [],
   "source": [
    "prob = [str(int(i)) + \"%\" for i in np.round(np.random.uniform(0.95,1.0,40),2)*100]"
   ]
  },
  {
   "cell_type": "markdown",
   "id": "c2fededf-b719-4585-9950-17f478652ab7",
   "metadata": {},
   "source": [
    "`-` 사건 관련 인원 수"
   ]
  },
  {
   "cell_type": "code",
   "execution_count": 200,
   "id": "1c3a158d-73f1-44a5-b008-0f3f8cae1df9",
   "metadata": {
    "tags": []
   },
   "outputs": [],
   "source": [
    "event_people = np.random.randint(0,5,40).tolist()"
   ]
  },
  {
   "cell_type": "markdown",
   "id": "db3d7401-5935-4b3e-90c6-95f0c3c8b833",
   "metadata": {},
   "source": [
    "`-` 사건 발생 위치"
   ]
  },
  {
   "cell_type": "code",
   "execution_count": 201,
   "id": "05345e83-7501-494a-9a96-d251d4cc4f6d",
   "metadata": {
    "tags": []
   },
   "outputs": [],
   "source": [
    "place = [\"택시 승강장\", \"1~3번 출입구\", \"4~6번 출입구\", \"입국심사 A게이트\", \"입국심사 F게이트\",\"체크인 카운터 A\",\"4번 자동출국심사대\", \"면세점 A구역\"]\n",
    "\n",
    "place = random.choices(place, k = 40)"
   ]
  },
  {
   "cell_type": "code",
   "execution_count": 202,
   "id": "9086bbfe-d660-4790-81dc-14795426f5a7",
   "metadata": {
    "tags": []
   },
   "outputs": [],
   "source": [
    "police = np.random.randint(0,5,40).tolist()"
   ]
  },
  {
   "cell_type": "markdown",
   "id": "b2ae7c9a-40c1-4ec7-8b6a-defc99929359",
   "metadata": {},
   "source": [
    "## 데이터 프레임 만들기"
   ]
  },
  {
   "cell_type": "code",
   "execution_count": 203,
   "id": "a4f44091-3d33-4065-a31b-5cbf11d076f9",
   "metadata": {
    "tags": []
   },
   "outputs": [],
   "source": [
    "data = pd.DataFrame([event_time, event, prob, event_people, place, police]).T\n",
    "\n",
    "data.columns = columns "
   ]
  },
  {
   "cell_type": "code",
   "execution_count": 204,
   "id": "f0460fd7-32df-43d9-8831-1b817e33a9d2",
   "metadata": {
    "tags": []
   },
   "outputs": [],
   "source": [
    "data.발생시간 = pd.to_datetime(data.발생시간)"
   ]
  },
  {
   "cell_type": "code",
   "execution_count": 205,
   "id": "67d463ca-3ac4-4226-85f4-27c171cda23c",
   "metadata": {
    "tags": []
   },
   "outputs": [],
   "source": [
    "data = data.sort_values(\"발생시간\")"
   ]
  },
  {
   "cell_type": "code",
   "execution_count": 206,
   "id": "616ce3de-73e0-41ac-999a-e7dc9e871e91",
   "metadata": {
    "tags": []
   },
   "outputs": [],
   "source": [
    "data[\"사건 관련 인원 수\"] = data[\"사건 관련 인원 수\"].astype(int)"
   ]
  },
  {
   "cell_type": "code",
   "execution_count": 207,
   "id": "bce0ca95-a7b2-4e09-bfc0-a7a416908629",
   "metadata": {
    "tags": []
   },
   "outputs": [],
   "source": [
    "data.to_csv(\"data.csv\", index = False)"
   ]
  },
  {
   "cell_type": "code",
   "execution_count": 208,
   "id": "310540b6-94c0-4cae-af7b-8c8149d18fc2",
   "metadata": {
    "tags": []
   },
   "outputs": [
    {
     "name": "stdout",
     "output_type": "stream",
     "text": [
      "<class 'pandas.core.frame.DataFrame'>\n",
      "Index: 40 entries, 25 to 17\n",
      "Data columns (total 6 columns):\n",
      " #   Column         Non-Null Count  Dtype         \n",
      "---  ------         --------------  -----         \n",
      " 0   발생시간           40 non-null     datetime64[ns]\n",
      " 1   이상행동 유형        40 non-null     object        \n",
      " 2   탐지 확률          40 non-null     object        \n",
      " 3   사건 관련 인원 수     40 non-null     int32         \n",
      " 4   상황 발생 위치       40 non-null     object        \n",
      " 5   해당 구역 배치 요원 수  40 non-null     object        \n",
      "dtypes: datetime64[ns](1), int32(1), object(4)\n",
      "memory usage: 2.0+ KB\n"
     ]
    }
   ],
   "source": [
    "data.info()"
   ]
  },
  {
   "cell_type": "markdown",
   "id": "efb1e00a-00ee-42b8-ab44-2f273276c676",
   "metadata": {},
   "source": [
    "# 시각화"
   ]
  },
  {
   "cell_type": "code",
   "execution_count": 209,
   "id": "0268de53-6aa3-42b4-9540-09fcbbb9753d",
   "metadata": {
    "tags": []
   },
   "outputs": [],
   "source": [
    "data = pd.read_csv(\"data.csv\")\n",
    "#data"
   ]
  },
  {
   "cell_type": "code",
   "execution_count": 210,
   "id": "53ac4187-5a40-4951-a6ff-c3368c00c57a",
   "metadata": {
    "tags": []
   },
   "outputs": [],
   "source": [
    "tidy_data = data.groupby([\"이상행동 유형\",\"상황 발생 위치\"],as_index = False)[[\"사건 관련 인원 수\"]].sum()"
   ]
  },
  {
   "cell_type": "code",
   "execution_count": 215,
   "id": "a0daa579-c291-49c3-81ae-f5e77140b608",
   "metadata": {
    "tags": []
   },
   "outputs": [
    {
     "data": {
      "text/html": [
       "<style type=\"text/css\">\n",
       "#T_da6d7_row0_col0, #T_da6d7_row1_col0, #T_da6d7_row1_col1, #T_da6d7_row3_col0, #T_da6d7_row4_col1, #T_da6d7_row6_col0, #T_da6d7_row7_col0, #T_da6d7_row8_col0, #T_da6d7_row9_col0 {\n",
       "  background-color: yellow;\n",
       "}\n",
       "#T_da6d7_row0_col1, #T_da6d7_row0_col2, #T_da6d7_row1_col2, #T_da6d7_row2_col1, #T_da6d7_row2_col2, #T_da6d7_row3_col1, #T_da6d7_row3_col2, #T_da6d7_row4_col0, #T_da6d7_row4_col2, #T_da6d7_row5_col0, #T_da6d7_row5_col1, #T_da6d7_row5_col2, #T_da6d7_row6_col1, #T_da6d7_row6_col2, #T_da6d7_row7_col1, #T_da6d7_row7_col2, #T_da6d7_row8_col1, #T_da6d7_row8_col2, #T_da6d7_row9_col1, #T_da6d7_row9_col2 {\n",
       "  background-color: green;\n",
       "}\n",
       "#T_da6d7_row2_col0 {\n",
       "  background-color: red;\n",
       "}\n",
       "</style>\n",
       "<table id=\"T_da6d7\">\n",
       "  <thead>\n",
       "    <tr>\n",
       "      <th class=\"blank level0\" >&nbsp;</th>\n",
       "      <th id=\"T_da6d7_level0_col0\" class=\"col_heading level0 col0\" >A</th>\n",
       "      <th id=\"T_da6d7_level0_col1\" class=\"col_heading level0 col1\" >B</th>\n",
       "      <th id=\"T_da6d7_level0_col2\" class=\"col_heading level0 col2\" >C</th>\n",
       "    </tr>\n",
       "  </thead>\n",
       "  <tbody>\n",
       "    <tr>\n",
       "      <th id=\"T_da6d7_level0_row0\" class=\"row_heading level0 row0\" >0</th>\n",
       "      <td id=\"T_da6d7_row0_col0\" class=\"data row0 col0\" >33</td>\n",
       "      <td id=\"T_da6d7_row0_col1\" class=\"data row0 col1\" >106</td>\n",
       "      <td id=\"T_da6d7_row0_col2\" class=\"data row0 col2\" >196</td>\n",
       "    </tr>\n",
       "    <tr>\n",
       "      <th id=\"T_da6d7_level0_row1\" class=\"row_heading level0 row1\" >1</th>\n",
       "      <td id=\"T_da6d7_row1_col0\" class=\"data row1 col0\" >63</td>\n",
       "      <td id=\"T_da6d7_row1_col1\" class=\"data row1 col1\" >52</td>\n",
       "      <td id=\"T_da6d7_row1_col2\" class=\"data row1 col2\" >178</td>\n",
       "    </tr>\n",
       "    <tr>\n",
       "      <th id=\"T_da6d7_level0_row2\" class=\"row_heading level0 row2\" >2</th>\n",
       "      <td id=\"T_da6d7_row2_col0\" class=\"data row2 col0\" >29</td>\n",
       "      <td id=\"T_da6d7_row2_col1\" class=\"data row2 col1\" >114</td>\n",
       "      <td id=\"T_da6d7_row2_col2\" class=\"data row2 col2\" >130</td>\n",
       "    </tr>\n",
       "    <tr>\n",
       "      <th id=\"T_da6d7_level0_row3\" class=\"row_heading level0 row3\" >3</th>\n",
       "      <td id=\"T_da6d7_row3_col0\" class=\"data row3 col0\" >36</td>\n",
       "      <td id=\"T_da6d7_row3_col1\" class=\"data row3 col1\" >130</td>\n",
       "      <td id=\"T_da6d7_row3_col2\" class=\"data row3 col2\" >106</td>\n",
       "    </tr>\n",
       "    <tr>\n",
       "      <th id=\"T_da6d7_level0_row4\" class=\"row_heading level0 row4\" >4</th>\n",
       "      <td id=\"T_da6d7_row4_col0\" class=\"data row4 col0\" >97</td>\n",
       "      <td id=\"T_da6d7_row4_col1\" class=\"data row4 col1\" >55</td>\n",
       "      <td id=\"T_da6d7_row4_col2\" class=\"data row4 col2\" >121</td>\n",
       "    </tr>\n",
       "    <tr>\n",
       "      <th id=\"T_da6d7_level0_row5\" class=\"row_heading level0 row5\" >5</th>\n",
       "      <td id=\"T_da6d7_row5_col0\" class=\"data row5 col0\" >91</td>\n",
       "      <td id=\"T_da6d7_row5_col1\" class=\"data row5 col1\" >113</td>\n",
       "      <td id=\"T_da6d7_row5_col2\" class=\"data row5 col2\" >122</td>\n",
       "    </tr>\n",
       "    <tr>\n",
       "      <th id=\"T_da6d7_level0_row6\" class=\"row_heading level0 row6\" >6</th>\n",
       "      <td id=\"T_da6d7_row6_col0\" class=\"data row6 col0\" >51</td>\n",
       "      <td id=\"T_da6d7_row6_col1\" class=\"data row6 col1\" >146</td>\n",
       "      <td id=\"T_da6d7_row6_col2\" class=\"data row6 col2\" >131</td>\n",
       "    </tr>\n",
       "    <tr>\n",
       "      <th id=\"T_da6d7_level0_row7\" class=\"row_heading level0 row7\" >7</th>\n",
       "      <td id=\"T_da6d7_row7_col0\" class=\"data row7 col0\" >36</td>\n",
       "      <td id=\"T_da6d7_row7_col1\" class=\"data row7 col1\" >71</td>\n",
       "      <td id=\"T_da6d7_row7_col2\" class=\"data row7 col2\" >102</td>\n",
       "    </tr>\n",
       "    <tr>\n",
       "      <th id=\"T_da6d7_level0_row8\" class=\"row_heading level0 row8\" >8</th>\n",
       "      <td id=\"T_da6d7_row8_col0\" class=\"data row8 col0\" >49</td>\n",
       "      <td id=\"T_da6d7_row8_col1\" class=\"data row8 col1\" >85</td>\n",
       "      <td id=\"T_da6d7_row8_col2\" class=\"data row8 col2\" >162</td>\n",
       "    </tr>\n",
       "    <tr>\n",
       "      <th id=\"T_da6d7_level0_row9\" class=\"row_heading level0 row9\" >9</th>\n",
       "      <td id=\"T_da6d7_row9_col0\" class=\"data row9 col0\" >49</td>\n",
       "      <td id=\"T_da6d7_row9_col1\" class=\"data row9 col1\" >74</td>\n",
       "      <td id=\"T_da6d7_row9_col2\" class=\"data row9 col2\" >128</td>\n",
       "    </tr>\n",
       "  </tbody>\n",
       "</table>\n"
      ],
      "text/plain": [
       "<pandas.io.formats.style.Styler at 0x2115b856c10>"
      ]
     },
     "execution_count": 215,
     "metadata": {},
     "output_type": "execute_result"
    }
   ],
   "source": [
    "import pandas as pd\n",
    "import numpy as np\n",
    "\n",
    "# 예제 데이터프레임 생성\n",
    "data = {'A': np.random.randint(1, 100, 10),\n",
    "        'B': np.random.randint(50, 150, 10),\n",
    "        'C': np.random.randint(100, 200, 10)}\n",
    "\n",
    "df = pd.DataFrame(data)\n",
    "\n",
    "# 사용자 정의 스타일 함수\n",
    "def custom_style(value):\n",
    "    if value < 30:\n",
    "        return 'background-color: red'\n",
    "    elif value < 70:\n",
    "        return 'background-color: yellow'\n",
    "    else:\n",
    "        return 'background-color: green'\n",
    "\n",
    "# applymap 메서드를 사용하여 스타일 함수를 데이터프레임에 적용\n",
    "styled_df = df.style.applymap(custom_style)\n",
    "\n",
    "# 스타일이 적용된 데이터프레임 출력\n",
    "styled_df\n"
   ]
  },
  {
   "cell_type": "code",
   "execution_count": 219,
   "id": "401b6488-8c26-418d-87d5-8547479caaa9",
   "metadata": {
    "tags": []
   },
   "outputs": [],
   "source": [
    "iris = px.data.iris()"
   ]
  },
  {
   "cell_type": "code",
   "execution_count": 224,
   "id": "bb96ed47-b5db-4b97-9ae0-1b21e48005a1",
   "metadata": {
    "tags": []
   },
   "outputs": [],
   "source": [
    "iris = iris.iloc[:, 0:4]"
   ]
  },
  {
   "cell_type": "code",
   "execution_count": 226,
   "id": "00f3e416-8952-45a6-a45c-00cdd31b7069",
   "metadata": {
    "tags": []
   },
   "outputs": [
    {
     "data": {
      "text/html": [
       "<div>\n",
       "<style scoped>\n",
       "    .dataframe tbody tr th:only-of-type {\n",
       "        vertical-align: middle;\n",
       "    }\n",
       "\n",
       "    .dataframe tbody tr th {\n",
       "        vertical-align: top;\n",
       "    }\n",
       "\n",
       "    .dataframe thead th {\n",
       "        text-align: right;\n",
       "    }\n",
       "</style>\n",
       "<table border=\"1\" class=\"dataframe\">\n",
       "  <thead>\n",
       "    <tr style=\"text-align: right;\">\n",
       "      <th></th>\n",
       "      <th>sepal_length</th>\n",
       "      <th>sepal_width</th>\n",
       "      <th>petal_length</th>\n",
       "      <th>petal_width</th>\n",
       "    </tr>\n",
       "  </thead>\n",
       "  <tbody>\n",
       "    <tr>\n",
       "      <th>0</th>\n",
       "      <td>5</td>\n",
       "      <td>3</td>\n",
       "      <td>1</td>\n",
       "      <td>0</td>\n",
       "    </tr>\n",
       "    <tr>\n",
       "      <th>1</th>\n",
       "      <td>4</td>\n",
       "      <td>3</td>\n",
       "      <td>1</td>\n",
       "      <td>0</td>\n",
       "    </tr>\n",
       "    <tr>\n",
       "      <th>2</th>\n",
       "      <td>4</td>\n",
       "      <td>3</td>\n",
       "      <td>1</td>\n",
       "      <td>0</td>\n",
       "    </tr>\n",
       "    <tr>\n",
       "      <th>3</th>\n",
       "      <td>4</td>\n",
       "      <td>3</td>\n",
       "      <td>1</td>\n",
       "      <td>0</td>\n",
       "    </tr>\n",
       "    <tr>\n",
       "      <th>4</th>\n",
       "      <td>5</td>\n",
       "      <td>3</td>\n",
       "      <td>1</td>\n",
       "      <td>0</td>\n",
       "    </tr>\n",
       "    <tr>\n",
       "      <th>...</th>\n",
       "      <td>...</td>\n",
       "      <td>...</td>\n",
       "      <td>...</td>\n",
       "      <td>...</td>\n",
       "    </tr>\n",
       "    <tr>\n",
       "      <th>145</th>\n",
       "      <td>6</td>\n",
       "      <td>3</td>\n",
       "      <td>5</td>\n",
       "      <td>2</td>\n",
       "    </tr>\n",
       "    <tr>\n",
       "      <th>146</th>\n",
       "      <td>6</td>\n",
       "      <td>2</td>\n",
       "      <td>5</td>\n",
       "      <td>1</td>\n",
       "    </tr>\n",
       "    <tr>\n",
       "      <th>147</th>\n",
       "      <td>6</td>\n",
       "      <td>3</td>\n",
       "      <td>5</td>\n",
       "      <td>2</td>\n",
       "    </tr>\n",
       "    <tr>\n",
       "      <th>148</th>\n",
       "      <td>6</td>\n",
       "      <td>3</td>\n",
       "      <td>5</td>\n",
       "      <td>2</td>\n",
       "    </tr>\n",
       "    <tr>\n",
       "      <th>149</th>\n",
       "      <td>5</td>\n",
       "      <td>3</td>\n",
       "      <td>5</td>\n",
       "      <td>1</td>\n",
       "    </tr>\n",
       "  </tbody>\n",
       "</table>\n",
       "<p>150 rows × 4 columns</p>\n",
       "</div>"
      ],
      "text/plain": [
       "     sepal_length  sepal_width  petal_length  petal_width\n",
       "0               5            3             1            0\n",
       "1               4            3             1            0\n",
       "2               4            3             1            0\n",
       "3               4            3             1            0\n",
       "4               5            3             1            0\n",
       "..            ...          ...           ...          ...\n",
       "145             6            3             5            2\n",
       "146             6            2             5            1\n",
       "147             6            3             5            2\n",
       "148             6            3             5            2\n",
       "149             5            3             5            1\n",
       "\n",
       "[150 rows x 4 columns]"
      ]
     },
     "execution_count": 226,
     "metadata": {},
     "output_type": "execute_result"
    }
   ],
   "source": [
    "iris.applymap(lambda x  : int(x))"
   ]
  },
  {
   "cell_type": "markdown",
   "id": "e8a8fded-9592-4d2b-9d5a-7a639a2635a4",
   "metadata": {},
   "source": [
    "## 혼잡도 데이터 생성 "
   ]
  },
  {
   "cell_type": "code",
   "execution_count": 320,
   "id": "5341f0c7-e229-4fcc-b2e1-024e20ab8869",
   "metadata": {
    "tags": []
   },
   "outputs": [],
   "source": [
    "time_table = [\"00~01시\",\"01~02시\",\"02~03시\",\"03~04시\",\"04~05시\",\"05~06시\",\"06~07시\",\"07~08시\",\n",
    "\t\t\t\t  \"08~09시\",\"09~10시\",\"10~11시\",\"11~12시\",\"12~13시\",\"13~14시\",\"14~15시\",\"15~16시\",\"16~17시\",\n",
    "\t\t\t\t  \"17~18시\",\"18~19시\",\"19~20시\",\"20~21시\",\"21~22시\",\"22~23시\",\"23~24시\"]"
   ]
  },
  {
   "cell_type": "markdown",
   "id": "879f6c9c-7a8b-4b4f-bc23-c5e87cc71617",
   "metadata": {},
   "source": [
    "### T1 입국장 데이터"
   ]
  },
  {
   "cell_type": "code",
   "execution_count": 321,
   "id": "658aa818-8add-4faf-9c95-535d3d35c736",
   "metadata": {
    "tags": []
   },
   "outputs": [],
   "source": [
    "import numpy as np"
   ]
  },
  {
   "cell_type": "code",
   "execution_count": 322,
   "id": "7174e918-ec7e-47a9-ab1b-07e2c3d7d49c",
   "metadata": {
    "tags": []
   },
   "outputs": [],
   "source": [
    "columns = [\"(A,B)\", \"C\", \"D\", \"(E,F)\"]"
   ]
  },
  {
   "cell_type": "code",
   "execution_count": 323,
   "id": "e3256efc-f626-4198-9668-8db5b29ef7a9",
   "metadata": {
    "tags": []
   },
   "outputs": [],
   "source": [
    "t1 = pd.DataFrame(np.random.randint(6000,9000,96).reshape(24,4))\n",
    "t1.columns = columns\n",
    "t1[\"합계\"] = t1.sum(axis = 1)\n",
    "t1[\"label\"] = \"T1\"\n",
    "t1[\"location\"] = \"T1 입국장\"\n",
    "t1[\"시간대\"] = time_table"
   ]
  },
  {
   "cell_type": "code",
   "execution_count": 324,
   "id": "f3f2ad49-cf24-4de7-b130-546da5eb1cc1",
   "metadata": {
    "tags": []
   },
   "outputs": [],
   "source": [
    "t2 = pd.DataFrame(np.random.randint(6000,9000,96).reshape(24,4))\n",
    "t2.columns = columns\n",
    "t2[\"합계\"] = t2.sum(axis = 1)\n",
    "t2[\"label\"] = \"T1\"\n",
    "t2[\"location\"] = \"T1 출국장\"\n",
    "t2[\"시간대\"] = time_table"
   ]
  },
  {
   "cell_type": "code",
   "execution_count": 325,
   "id": "85893897-3386-4038-83ba-dbf9f82e0649",
   "metadata": {
    "tags": []
   },
   "outputs": [],
   "source": [
    "t3 = pd.DataFrame(np.random.randint(2000,4500,96).reshape(24,4))\n",
    "t3.columns = columns\n",
    "t3[\"합계\"] = t3.sum(axis = 1)\n",
    "t3[\"label\"] = \"T2\"\n",
    "t3[\"location\"] = \"T2 입국장\"\n",
    "t3[\"시간대\"] = time_table"
   ]
  },
  {
   "cell_type": "code",
   "execution_count": 326,
   "id": "4c959783-933c-4563-8a9a-f8ed8abd3787",
   "metadata": {
    "tags": []
   },
   "outputs": [],
   "source": [
    "t4 = pd.DataFrame(np.random.randint(2000,4500,96).reshape(24,4))\n",
    "t4.columns = columns\n",
    "t4[\"합계\"] = t4.sum(axis = 1)\n",
    "t4[\"label\"] = \"T2\"\n",
    "t4[\"location\"] = \"T2 출국장\"\n",
    "t4[\"시간대\"] = time_table"
   ]
  },
  {
   "cell_type": "code",
   "execution_count": 327,
   "id": "cd4d713a-cf2e-416a-b14b-c000115912ec",
   "metadata": {
    "tags": []
   },
   "outputs": [],
   "source": [
    "total_data = pd.concat([t1,t2,t3,t4],axis = 0)"
   ]
  },
  {
   "cell_type": "code",
   "execution_count": 328,
   "id": "db15be21-0e09-4e2a-90cc-0bb181947d4c",
   "metadata": {
    "tags": []
   },
   "outputs": [],
   "source": [
    "total_data.iloc[:, [6,7,5,0,1,2,3]].to_csv(\"혼잡도.csv\", index = False)"
   ]
  },
  {
   "cell_type": "markdown",
   "id": "eeff5f6e-c5eb-4be9-ade6-0738ace94174",
   "metadata": {},
   "source": [
    "## 색깔 칠하기 test"
   ]
  },
  {
   "cell_type": "code",
   "execution_count": 329,
   "id": "f3539a02-8c2d-476e-8b30-f867d44ebb88",
   "metadata": {
    "tags": []
   },
   "outputs": [],
   "source": [
    "data = pd.read_csv(\"혼잡도.csv\")"
   ]
  },
  {
   "cell_type": "code",
   "execution_count": 330,
   "id": "316b3de5-efe6-42c8-813c-ca252557c722",
   "metadata": {
    "tags": []
   },
   "outputs": [],
   "source": [
    "def custom_style(value):\n",
    "\t\tif value <= 7000 :\n",
    "\t\t\treturn 'background-color: grey'\n",
    "\t\tif 7000 <value <= 7600 :\n",
    "\t\t\treturn 'background-color: blue'\n",
    "\t\telif 7600 < value <= 8200 :\n",
    "\t\t\treturn 'background-color: yellow'\n",
    "\t\telif 8200 <value <= 8600 :\n",
    "\t\t\treturn 'background-color: orange'\n",
    "\t\telse :\n",
    "\t\t\treturn 'background-color: red'"
   ]
  },
  {
   "cell_type": "code",
   "execution_count": 331,
   "id": "04020e2c-0d2e-49da-a0f5-5dea3dfb75a0",
   "metadata": {
    "tags": []
   },
   "outputs": [
    {
     "data": {
      "text/plain": [
       "Index(['location', '시간대', 'label', '(A,B)', 'C', 'D', '(E,F)'], dtype='object')"
      ]
     },
     "execution_count": 331,
     "metadata": {},
     "output_type": "execute_result"
    }
   ],
   "source": [
    "data.columns"
   ]
  },
  {
   "cell_type": "code",
   "execution_count": 332,
   "id": "37000236-a34f-4975-89c2-e168aeff65df",
   "metadata": {
    "tags": []
   },
   "outputs": [
    {
     "data": {
      "text/html": [
       "<div>\n",
       "<style scoped>\n",
       "    .dataframe tbody tr th:only-of-type {\n",
       "        vertical-align: middle;\n",
       "    }\n",
       "\n",
       "    .dataframe tbody tr th {\n",
       "        vertical-align: top;\n",
       "    }\n",
       "\n",
       "    .dataframe thead th {\n",
       "        text-align: right;\n",
       "    }\n",
       "</style>\n",
       "<table border=\"1\" class=\"dataframe\">\n",
       "  <thead>\n",
       "    <tr style=\"text-align: right;\">\n",
       "      <th></th>\n",
       "      <th>시간대</th>\n",
       "      <th>(A,B)</th>\n",
       "      <th>C</th>\n",
       "      <th>D</th>\n",
       "      <th>(E,F)</th>\n",
       "    </tr>\n",
       "  </thead>\n",
       "  <tbody>\n",
       "    <tr>\n",
       "      <th>0</th>\n",
       "      <td>00~01시</td>\n",
       "      <td>6906</td>\n",
       "      <td>8483</td>\n",
       "      <td>6277</td>\n",
       "      <td>8962</td>\n",
       "    </tr>\n",
       "    <tr>\n",
       "      <th>1</th>\n",
       "      <td>01~02시</td>\n",
       "      <td>7006</td>\n",
       "      <td>8221</td>\n",
       "      <td>6470</td>\n",
       "      <td>8954</td>\n",
       "    </tr>\n",
       "    <tr>\n",
       "      <th>2</th>\n",
       "      <td>02~03시</td>\n",
       "      <td>7412</td>\n",
       "      <td>8862</td>\n",
       "      <td>6484</td>\n",
       "      <td>8696</td>\n",
       "    </tr>\n",
       "    <tr>\n",
       "      <th>3</th>\n",
       "      <td>03~04시</td>\n",
       "      <td>6744</td>\n",
       "      <td>8604</td>\n",
       "      <td>7273</td>\n",
       "      <td>7958</td>\n",
       "    </tr>\n",
       "    <tr>\n",
       "      <th>4</th>\n",
       "      <td>04~05시</td>\n",
       "      <td>8365</td>\n",
       "      <td>6475</td>\n",
       "      <td>6707</td>\n",
       "      <td>7511</td>\n",
       "    </tr>\n",
       "    <tr>\n",
       "      <th>5</th>\n",
       "      <td>05~06시</td>\n",
       "      <td>6436</td>\n",
       "      <td>6664</td>\n",
       "      <td>7233</td>\n",
       "      <td>8624</td>\n",
       "    </tr>\n",
       "    <tr>\n",
       "      <th>6</th>\n",
       "      <td>06~07시</td>\n",
       "      <td>6416</td>\n",
       "      <td>6058</td>\n",
       "      <td>7364</td>\n",
       "      <td>8516</td>\n",
       "    </tr>\n",
       "    <tr>\n",
       "      <th>7</th>\n",
       "      <td>07~08시</td>\n",
       "      <td>6170</td>\n",
       "      <td>6842</td>\n",
       "      <td>6034</td>\n",
       "      <td>7617</td>\n",
       "    </tr>\n",
       "    <tr>\n",
       "      <th>8</th>\n",
       "      <td>08~09시</td>\n",
       "      <td>7152</td>\n",
       "      <td>8682</td>\n",
       "      <td>7635</td>\n",
       "      <td>8739</td>\n",
       "    </tr>\n",
       "    <tr>\n",
       "      <th>9</th>\n",
       "      <td>09~10시</td>\n",
       "      <td>7504</td>\n",
       "      <td>6032</td>\n",
       "      <td>8399</td>\n",
       "      <td>7795</td>\n",
       "    </tr>\n",
       "    <tr>\n",
       "      <th>10</th>\n",
       "      <td>10~11시</td>\n",
       "      <td>6141</td>\n",
       "      <td>7403</td>\n",
       "      <td>6642</td>\n",
       "      <td>7194</td>\n",
       "    </tr>\n",
       "    <tr>\n",
       "      <th>11</th>\n",
       "      <td>11~12시</td>\n",
       "      <td>8065</td>\n",
       "      <td>7071</td>\n",
       "      <td>6069</td>\n",
       "      <td>6198</td>\n",
       "    </tr>\n",
       "    <tr>\n",
       "      <th>12</th>\n",
       "      <td>12~13시</td>\n",
       "      <td>7690</td>\n",
       "      <td>8077</td>\n",
       "      <td>8591</td>\n",
       "      <td>7850</td>\n",
       "    </tr>\n",
       "    <tr>\n",
       "      <th>13</th>\n",
       "      <td>13~14시</td>\n",
       "      <td>7049</td>\n",
       "      <td>7841</td>\n",
       "      <td>7381</td>\n",
       "      <td>7899</td>\n",
       "    </tr>\n",
       "    <tr>\n",
       "      <th>14</th>\n",
       "      <td>14~15시</td>\n",
       "      <td>6478</td>\n",
       "      <td>8708</td>\n",
       "      <td>6946</td>\n",
       "      <td>8473</td>\n",
       "    </tr>\n",
       "    <tr>\n",
       "      <th>15</th>\n",
       "      <td>15~16시</td>\n",
       "      <td>7921</td>\n",
       "      <td>6623</td>\n",
       "      <td>8523</td>\n",
       "      <td>8928</td>\n",
       "    </tr>\n",
       "    <tr>\n",
       "      <th>16</th>\n",
       "      <td>16~17시</td>\n",
       "      <td>6879</td>\n",
       "      <td>7553</td>\n",
       "      <td>8036</td>\n",
       "      <td>7513</td>\n",
       "    </tr>\n",
       "    <tr>\n",
       "      <th>17</th>\n",
       "      <td>17~18시</td>\n",
       "      <td>6216</td>\n",
       "      <td>6830</td>\n",
       "      <td>8063</td>\n",
       "      <td>6047</td>\n",
       "    </tr>\n",
       "    <tr>\n",
       "      <th>18</th>\n",
       "      <td>18~19시</td>\n",
       "      <td>6171</td>\n",
       "      <td>6122</td>\n",
       "      <td>8937</td>\n",
       "      <td>7261</td>\n",
       "    </tr>\n",
       "    <tr>\n",
       "      <th>19</th>\n",
       "      <td>19~20시</td>\n",
       "      <td>6094</td>\n",
       "      <td>6500</td>\n",
       "      <td>8131</td>\n",
       "      <td>6211</td>\n",
       "    </tr>\n",
       "    <tr>\n",
       "      <th>20</th>\n",
       "      <td>20~21시</td>\n",
       "      <td>7454</td>\n",
       "      <td>8842</td>\n",
       "      <td>7204</td>\n",
       "      <td>6471</td>\n",
       "    </tr>\n",
       "    <tr>\n",
       "      <th>21</th>\n",
       "      <td>21~22시</td>\n",
       "      <td>7319</td>\n",
       "      <td>8724</td>\n",
       "      <td>6387</td>\n",
       "      <td>6562</td>\n",
       "    </tr>\n",
       "    <tr>\n",
       "      <th>22</th>\n",
       "      <td>22~23시</td>\n",
       "      <td>7203</td>\n",
       "      <td>7882</td>\n",
       "      <td>6664</td>\n",
       "      <td>8324</td>\n",
       "    </tr>\n",
       "    <tr>\n",
       "      <th>23</th>\n",
       "      <td>23~24시</td>\n",
       "      <td>6208</td>\n",
       "      <td>8596</td>\n",
       "      <td>6262</td>\n",
       "      <td>7966</td>\n",
       "    </tr>\n",
       "  </tbody>\n",
       "</table>\n",
       "</div>"
      ],
      "text/plain": [
       "       시간대  (A,B)     C     D  (E,F)\n",
       "0   00~01시   6906  8483  6277   8962\n",
       "1   01~02시   7006  8221  6470   8954\n",
       "2   02~03시   7412  8862  6484   8696\n",
       "3   03~04시   6744  8604  7273   7958\n",
       "4   04~05시   8365  6475  6707   7511\n",
       "5   05~06시   6436  6664  7233   8624\n",
       "6   06~07시   6416  6058  7364   8516\n",
       "7   07~08시   6170  6842  6034   7617\n",
       "8   08~09시   7152  8682  7635   8739\n",
       "9   09~10시   7504  6032  8399   7795\n",
       "10  10~11시   6141  7403  6642   7194\n",
       "11  11~12시   8065  7071  6069   6198\n",
       "12  12~13시   7690  8077  8591   7850\n",
       "13  13~14시   7049  7841  7381   7899\n",
       "14  14~15시   6478  8708  6946   8473\n",
       "15  15~16시   7921  6623  8523   8928\n",
       "16  16~17시   6879  7553  8036   7513\n",
       "17  17~18시   6216  6830  8063   6047\n",
       "18  18~19시   6171  6122  8937   7261\n",
       "19  19~20시   6094  6500  8131   6211\n",
       "20  20~21시   7454  8842  7204   6471\n",
       "21  21~22시   7319  8724  6387   6562\n",
       "22  22~23시   7203  7882  6664   8324\n",
       "23  23~24시   6208  8596  6262   7966"
      ]
     },
     "execution_count": 332,
     "metadata": {},
     "output_type": "execute_result"
    }
   ],
   "source": [
    " data.loc[data.location == \"T1 입국장\", [\"시간대\",'(A,B)', 'C', 'D', '(E,F)']]"
   ]
  },
  {
   "cell_type": "code",
   "execution_count": 318,
   "id": "e723267d-9fc7-445a-957e-a9e3526bd897",
   "metadata": {
    "tags": []
   },
   "outputs": [],
   "source": [
    "df = data.loc[:,[\"시간대\",'(A,B)', 'C', 'D', '(E,F)']].set_index(\"시간대\").T"
   ]
  },
  {
   "cell_type": "markdown",
   "id": "3617f628-bfd2-4e1a-9554-5c5783fd116f",
   "metadata": {},
   "source": [
    "***"
   ]
  },
  {
   "cell_type": "code",
   "execution_count": 422,
   "id": "a059153f-f2e7-446a-9c5c-690fc4966059",
   "metadata": {
    "tags": []
   },
   "outputs": [],
   "source": [
    "index = [\"BLUE\",\"PINK\", \"ORANGE\", \"RED\"]\n",
    "T1 = [\"7,000 ~ 7,600명\", \"7,600 ~ 8,200명\", \"8,200 ~ 8,600명\", \"8,600명 초과\" ]\n",
    "T2 = [\"3,200 ~ 3,500명\", \"3,500 ~ 3,800명\", \"3,800 ~ 4,000명\", \"4,000명 초과\" ]\n",
    "\n",
    "table = pd.DataFrame([index, T1, T2]).T.reset_index(drop=True)\n",
    "table.columns = [\"구분\", \"제1여객터미널 (T1)\", \"제2여객터미널 (T2)\"]"
   ]
  },
  {
   "cell_type": "code",
   "execution_count": null,
   "id": "02aeac7b-edb9-40e2-b3c8-8baa9ad59b4c",
   "metadata": {},
   "outputs": [],
   "source": [
    "def colors(x) :\n",
    "    return f\"background : {x}\""
   ]
  }
 ],
 "metadata": {
  "kernelspec": {
   "display_name": "Python 3 (ipykernel)",
   "language": "python",
   "name": "python3"
  },
  "language_info": {
   "codemirror_mode": {
    "name": "ipython",
    "version": 3
   },
   "file_extension": ".py",
   "mimetype": "text/x-python",
   "name": "python",
   "nbconvert_exporter": "python",
   "pygments_lexer": "ipython3",
   "version": "3.11.4"
  }
 },
 "nbformat": 4,
 "nbformat_minor": 5
}
